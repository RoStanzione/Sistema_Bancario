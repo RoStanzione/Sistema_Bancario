{
 "cells": [
  {
   "cell_type": "code",
   "execution_count": 1,
   "id": "b461e1dd",
   "metadata": {},
   "outputs": [],
   "source": [
    "menu= '''\n",
    "[1] = depositar\n",
    "[2] = sacar\n",
    "[3] = extrato\n",
    "[0] = sair\n",
    "'''"
   ]
  },
  {
   "cell_type": "code",
   "execution_count": null,
   "id": "562bf492",
   "metadata": {},
   "outputs": [],
   "source": [
    "saldo= 500\n",
    "extrato= ''\n",
    "limite_saque= 500\n",
    "limite_saque_diario= 1500\n",
    "qtd_saque= 0\n",
    "\n",
    "while True:\n",
    "    \n",
    "    opcao= int(input(menu))\n",
    "    \n",
    "    if opcao==1:\n",
    "\n",
    "#depositar\n",
    "        deposito= float(input('Digite o valor para deposito \\n'))\n",
    "        if deposito>0:\n",
    "            saldo= saldo+deposito\n",
    "            extrato+= f'Depósito: R$ {deposito:.2f}\\n'\n",
    "            print('Depósito realizado com sucesso!')\n",
    "        else: print('Digite um valor válido')\n",
    "    elif opcao==2:\n",
    "\n",
    "#sacar\n",
    "        saque= float(input('Digite o valor do saque \\n'))\n",
    "        if saque>0:\n",
    "            if saque<saldo:\n",
    "                if saque <= limite_saque:\n",
    "                    if (limite_saque_diario>0) and (qtd_saque<3):\n",
    "\n",
    "                        saldo= saldo-saque\n",
    "                        qtd_saque = qtd_saque + 1\n",
    "                        limite_saque_diario = limite_saque_diario - saque\n",
    "                        extrato+= f'Saque: R$ {saque:.2f}\\n'\n",
    "                        print('Saque realizado com sucesso!')\n",
    "                    else: print('Limite máximo de saque atingido')\n",
    "                else: print('Valor acima do permitido por saque')\n",
    "            else: print('Saldo insuficiente')\n",
    "        else: print('Digite um valor válido') \n",
    "    \n",
    "    elif opcao==3:\n",
    "    \n",
    "#extrato\n",
    "        print('Extrato'.center(50, '='))\n",
    "        print(extrato)\n",
    "        print('Saldo atual: R$', saldo)\n",
    "        print('Extrato'.center(50, '='))\n",
    "    \n",
    "    elif opcao==0:\n",
    "            break\n",
    "    \n",
    "    else: print('Digite uma opção válida')\n"
   ]
  },
  {
   "cell_type": "code",
   "execution_count": null,
   "id": "9c9f8268",
   "metadata": {},
   "outputs": [],
   "source": []
  }
 ],
 "metadata": {
  "kernelspec": {
   "display_name": "Python 3 (ipykernel)",
   "language": "python",
   "name": "python3"
  },
  "language_info": {
   "codemirror_mode": {
    "name": "ipython",
    "version": 3
   },
   "file_extension": ".py",
   "mimetype": "text/x-python",
   "name": "python",
   "nbconvert_exporter": "python",
   "pygments_lexer": "ipython3",
   "version": "3.10.9"
  }
 },
 "nbformat": 4,
 "nbformat_minor": 5
}
